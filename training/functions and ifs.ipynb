{
 "cells": [
  {
   "cell_type": "markdown",
   "metadata": {},
   "source": [
    "### Write set of conditional statements to find whether or not a number is a \"special\" number\n",
    "\n",
    "### special numbers are defined as numbers less than 100 or greater than or equal to 300, that are perfectly divisible by, 3, 7, or both\n",
    "\n",
    "### print out \"Divisible by both\" of special number divisible by both 3 & 7\n",
    "\n",
    "### print out \"divisible by 3\" if special number divisible by 3, but not 7\n",
    "\n",
    "### print out \"divisible by 7\" if special number divisible by 7, but not 3\n",
    "\n",
    "### print out \"not a special number\" otherwise\n"
   ]
  },
  {
   "cell_type": "code",
   "execution_count": 21,
   "metadata": {},
   "outputs": [
    {
     "name": "stdout",
     "output_type": "stream",
     "text": [
      "Not a special number\n"
     ]
    }
   ],
   "source": [
    "number = 353\n",
    "\n",
    "if (number < 100 or number >= 300) and (number % 3 == 0 or number % 7 == 0):\n",
    "    if (number % 3 == 0 and number % 7 == 0):\n",
    "        print(\"Divisible by both\")\n",
    "    elif (number % 3 == 0):\n",
    "        print(\"Divisble by 3\")\n",
    "    else:\n",
    "        print(\"Divisible by 7\")\n",
    "else:\n",
    "    print(\"Not a special number\")\n"
   ]
  },
  {
   "cell_type": "markdown",
   "metadata": {},
   "source": [
    "### functions"
   ]
  },
  {
   "cell_type": "code",
   "execution_count": 50,
   "metadata": {},
   "outputs": [
    {
     "name": "stdout",
     "output_type": "stream",
     "text": [
      "Magnus D Besseling\n"
     ]
    }
   ],
   "source": [
    "def combine(first, middle, lastname):\n",
    "    return first + \" \" + middle[0] + \" \" + lastname\n",
    "\n",
    "fulltnamn = combine(\"Magnus\", \"Dennis\", \"Besseling\")\n",
    "\n",
    "print(fulltnamn)"
   ]
  },
  {
   "cell_type": "markdown",
   "metadata": {},
   "source": [
    "### monkey trouble"
   ]
  },
  {
   "cell_type": "code",
   "execution_count": 63,
   "metadata": {},
   "outputs": [],
   "source": [
    "def monkey_trouble(a_smile, b_smile):\n",
    "    return (a_smile == b_smile)"
   ]
  },
  {
   "cell_type": "markdown",
   "metadata": {},
   "source": [
    "### sum_double"
   ]
  },
  {
   "cell_type": "code",
   "execution_count": 69,
   "metadata": {},
   "outputs": [
    {
     "name": "stdout",
     "output_type": "stream",
     "text": [
      "3\n"
     ]
    }
   ],
   "source": [
    "def sum_double(a, b):\n",
    "    if a == b: \n",
    "        return (a + b) * 2\n",
    "    else:\n",
    "        return a + b\n",
    "    \n",
    "sum = sum_double(2, 1)\n",
    "\n",
    "print(sum)"
   ]
  }
 ],
 "metadata": {
  "kernelspec": {
   "display_name": "Python 3",
   "language": "python",
   "name": "python3"
  },
  "language_info": {
   "codemirror_mode": {
    "name": "ipython",
    "version": 3
   },
   "file_extension": ".py",
   "mimetype": "text/x-python",
   "name": "python",
   "nbconvert_exporter": "python",
   "pygments_lexer": "ipython3",
   "version": "3.7.4"
  }
 },
 "nbformat": 4,
 "nbformat_minor": 2
}
