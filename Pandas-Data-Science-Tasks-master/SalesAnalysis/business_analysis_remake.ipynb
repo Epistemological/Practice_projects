{
 "cells": [
  {
   "cell_type": "markdown",
   "metadata": {},
   "source": [
    "### import necessary libraries "
   ]
  },
  {
   "cell_type": "code",
   "execution_count": 363,
   "metadata": {},
   "outputs": [],
   "source": [
    "import pandas as pd\n",
    "import os, glob"
   ]
  },
  {
   "cell_type": "markdown",
   "metadata": {},
   "source": [
    "### merge 12 months of sales data into single file"
   ]
  },
  {
   "cell_type": "code",
   "execution_count": 364,
   "metadata": {},
   "outputs": [],
   "source": [
    "#merge 12 months of sales data into single file\n",
    "path = r'./Sales_Data/'\n",
    "all_files = glob.glob(path + 'Sales_*.csv')\n",
    "df = pd.concat((pd.read_csv(f) for f in all_files))\n",
    "df.to_csv('concat_df.csv', index=False)"
   ]
  },
  {
   "cell_type": "markdown",
   "metadata": {},
   "source": [
    "### read in updated dataframe"
   ]
  },
  {
   "cell_type": "code",
   "execution_count": 365,
   "metadata": {},
   "outputs": [
    {
     "data": {
      "text/html": [
       "<div>\n",
       "<style scoped>\n",
       "    .dataframe tbody tr th:only-of-type {\n",
       "        vertical-align: middle;\n",
       "    }\n",
       "\n",
       "    .dataframe tbody tr th {\n",
       "        vertical-align: top;\n",
       "    }\n",
       "\n",
       "    .dataframe thead th {\n",
       "        text-align: right;\n",
       "    }\n",
       "</style>\n",
       "<table border=\"1\" class=\"dataframe\">\n",
       "  <thead>\n",
       "    <tr style=\"text-align: right;\">\n",
       "      <th></th>\n",
       "      <th>Order ID</th>\n",
       "      <th>Product</th>\n",
       "      <th>Quantity Ordered</th>\n",
       "      <th>Price Each</th>\n",
       "      <th>Order Date</th>\n",
       "      <th>Purchase Address</th>\n",
       "    </tr>\n",
       "  </thead>\n",
       "  <tbody>\n",
       "    <tr>\n",
       "      <td>0</td>\n",
       "      <td>176558</td>\n",
       "      <td>USB-C Charging Cable</td>\n",
       "      <td>2</td>\n",
       "      <td>11.95</td>\n",
       "      <td>04/19/19 08:46</td>\n",
       "      <td>917 1st St, Dallas, TX 75001</td>\n",
       "    </tr>\n",
       "    <tr>\n",
       "      <td>1</td>\n",
       "      <td>NaN</td>\n",
       "      <td>NaN</td>\n",
       "      <td>NaN</td>\n",
       "      <td>NaN</td>\n",
       "      <td>NaN</td>\n",
       "      <td>NaN</td>\n",
       "    </tr>\n",
       "    <tr>\n",
       "      <td>2</td>\n",
       "      <td>176559</td>\n",
       "      <td>Bose SoundSport Headphones</td>\n",
       "      <td>1</td>\n",
       "      <td>99.99</td>\n",
       "      <td>04/07/19 22:30</td>\n",
       "      <td>682 Chestnut St, Boston, MA 02215</td>\n",
       "    </tr>\n",
       "    <tr>\n",
       "      <td>3</td>\n",
       "      <td>176560</td>\n",
       "      <td>Google Phone</td>\n",
       "      <td>1</td>\n",
       "      <td>600</td>\n",
       "      <td>04/12/19 14:38</td>\n",
       "      <td>669 Spruce St, Los Angeles, CA 90001</td>\n",
       "    </tr>\n",
       "    <tr>\n",
       "      <td>4</td>\n",
       "      <td>176560</td>\n",
       "      <td>Wired Headphones</td>\n",
       "      <td>1</td>\n",
       "      <td>11.99</td>\n",
       "      <td>04/12/19 14:38</td>\n",
       "      <td>669 Spruce St, Los Angeles, CA 90001</td>\n",
       "    </tr>\n",
       "  </tbody>\n",
       "</table>\n",
       "</div>"
      ],
      "text/plain": [
       "  Order ID                     Product Quantity Ordered Price Each  \\\n",
       "0   176558        USB-C Charging Cable                2      11.95   \n",
       "1      NaN                         NaN              NaN        NaN   \n",
       "2   176559  Bose SoundSport Headphones                1      99.99   \n",
       "3   176560                Google Phone                1        600   \n",
       "4   176560            Wired Headphones                1      11.99   \n",
       "\n",
       "       Order Date                      Purchase Address  \n",
       "0  04/19/19 08:46          917 1st St, Dallas, TX 75001  \n",
       "1             NaN                                   NaN  \n",
       "2  04/07/19 22:30     682 Chestnut St, Boston, MA 02215  \n",
       "3  04/12/19 14:38  669 Spruce St, Los Angeles, CA 90001  \n",
       "4  04/12/19 14:38  669 Spruce St, Los Angeles, CA 90001  "
      ]
     },
     "execution_count": 365,
     "metadata": {},
     "output_type": "execute_result"
    }
   ],
   "source": [
    "all_data = pd.read_csv('concat_df.csv')\n",
    "all_data.head()"
   ]
  },
  {
   "cell_type": "markdown",
   "metadata": {},
   "source": [
    "### what was the best month for sales? "
   ]
  },
  {
   "cell_type": "markdown",
   "metadata": {},
   "source": [
    "### remove empty values"
   ]
  },
  {
   "cell_type": "code",
   "execution_count": 366,
   "metadata": {},
   "outputs": [
    {
     "data": {
      "text/html": [
       "<div>\n",
       "<style scoped>\n",
       "    .dataframe tbody tr th:only-of-type {\n",
       "        vertical-align: middle;\n",
       "    }\n",
       "\n",
       "    .dataframe tbody tr th {\n",
       "        vertical-align: top;\n",
       "    }\n",
       "\n",
       "    .dataframe thead th {\n",
       "        text-align: right;\n",
       "    }\n",
       "</style>\n",
       "<table border=\"1\" class=\"dataframe\">\n",
       "  <thead>\n",
       "    <tr style=\"text-align: right;\">\n",
       "      <th></th>\n",
       "      <th>Order ID</th>\n",
       "      <th>Product</th>\n",
       "      <th>Quantity Ordered</th>\n",
       "      <th>Price Each</th>\n",
       "      <th>Order Date</th>\n",
       "      <th>Purchase Address</th>\n",
       "    </tr>\n",
       "  </thead>\n",
       "  <tbody>\n",
       "    <tr>\n",
       "      <td>0</td>\n",
       "      <td>176558</td>\n",
       "      <td>USB-C Charging Cable</td>\n",
       "      <td>2</td>\n",
       "      <td>11.95</td>\n",
       "      <td>04/19/19 08:46</td>\n",
       "      <td>917 1st St, Dallas, TX 75001</td>\n",
       "    </tr>\n",
       "    <tr>\n",
       "      <td>2</td>\n",
       "      <td>176559</td>\n",
       "      <td>Bose SoundSport Headphones</td>\n",
       "      <td>1</td>\n",
       "      <td>99.99</td>\n",
       "      <td>04/07/19 22:30</td>\n",
       "      <td>682 Chestnut St, Boston, MA 02215</td>\n",
       "    </tr>\n",
       "    <tr>\n",
       "      <td>3</td>\n",
       "      <td>176560</td>\n",
       "      <td>Google Phone</td>\n",
       "      <td>1</td>\n",
       "      <td>600</td>\n",
       "      <td>04/12/19 14:38</td>\n",
       "      <td>669 Spruce St, Los Angeles, CA 90001</td>\n",
       "    </tr>\n",
       "    <tr>\n",
       "      <td>4</td>\n",
       "      <td>176560</td>\n",
       "      <td>Wired Headphones</td>\n",
       "      <td>1</td>\n",
       "      <td>11.99</td>\n",
       "      <td>04/12/19 14:38</td>\n",
       "      <td>669 Spruce St, Los Angeles, CA 90001</td>\n",
       "    </tr>\n",
       "    <tr>\n",
       "      <td>5</td>\n",
       "      <td>176561</td>\n",
       "      <td>Wired Headphones</td>\n",
       "      <td>1</td>\n",
       "      <td>11.99</td>\n",
       "      <td>04/30/19 09:27</td>\n",
       "      <td>333 8th St, Los Angeles, CA 90001</td>\n",
       "    </tr>\n",
       "  </tbody>\n",
       "</table>\n",
       "</div>"
      ],
      "text/plain": [
       "  Order ID                     Product Quantity Ordered Price Each  \\\n",
       "0   176558        USB-C Charging Cable                2      11.95   \n",
       "2   176559  Bose SoundSport Headphones                1      99.99   \n",
       "3   176560                Google Phone                1        600   \n",
       "4   176560            Wired Headphones                1      11.99   \n",
       "5   176561            Wired Headphones                1      11.99   \n",
       "\n",
       "       Order Date                      Purchase Address  \n",
       "0  04/19/19 08:46          917 1st St, Dallas, TX 75001  \n",
       "2  04/07/19 22:30     682 Chestnut St, Boston, MA 02215  \n",
       "3  04/12/19 14:38  669 Spruce St, Los Angeles, CA 90001  \n",
       "4  04/12/19 14:38  669 Spruce St, Los Angeles, CA 90001  \n",
       "5  04/30/19 09:27     333 8th St, Los Angeles, CA 90001  "
      ]
     },
     "execution_count": 366,
     "metadata": {},
     "output_type": "execute_result"
    }
   ],
   "source": [
    "all_data = all_data.dropna(how='all')\n",
    "all_data.head()"
   ]
  },
  {
   "cell_type": "markdown",
   "metadata": {},
   "source": [
    "### convert to int"
   ]
  },
  {
   "cell_type": "code",
   "execution_count": 367,
   "metadata": {},
   "outputs": [],
   "source": [
    "all_data['Price Each'] = pd.to_numeric(all_data['Price Each'], errors='coerce')\n",
    "all_data['Quantity Ordered'] = pd.to_numeric(all_data['Quantity Ordered'], errors='coerce')"
   ]
  },
  {
   "cell_type": "markdown",
   "metadata": {},
   "source": [
    "### create new column 'total sales'"
   ]
  },
  {
   "cell_type": "code",
   "execution_count": 368,
   "metadata": {},
   "outputs": [
    {
     "data": {
      "text/html": [
       "<div>\n",
       "<style scoped>\n",
       "    .dataframe tbody tr th:only-of-type {\n",
       "        vertical-align: middle;\n",
       "    }\n",
       "\n",
       "    .dataframe tbody tr th {\n",
       "        vertical-align: top;\n",
       "    }\n",
       "\n",
       "    .dataframe thead th {\n",
       "        text-align: right;\n",
       "    }\n",
       "</style>\n",
       "<table border=\"1\" class=\"dataframe\">\n",
       "  <thead>\n",
       "    <tr style=\"text-align: right;\">\n",
       "      <th></th>\n",
       "      <th>Order ID</th>\n",
       "      <th>Product</th>\n",
       "      <th>Quantity Ordered</th>\n",
       "      <th>Price Each</th>\n",
       "      <th>Order Date</th>\n",
       "      <th>Purchase Address</th>\n",
       "      <th>Total sales</th>\n",
       "    </tr>\n",
       "  </thead>\n",
       "  <tbody>\n",
       "    <tr>\n",
       "      <td>0</td>\n",
       "      <td>176558</td>\n",
       "      <td>USB-C Charging Cable</td>\n",
       "      <td>2.0</td>\n",
       "      <td>11.95</td>\n",
       "      <td>04/19/19 08:46</td>\n",
       "      <td>917 1st St, Dallas, TX 75001</td>\n",
       "      <td>23.90</td>\n",
       "    </tr>\n",
       "    <tr>\n",
       "      <td>2</td>\n",
       "      <td>176559</td>\n",
       "      <td>Bose SoundSport Headphones</td>\n",
       "      <td>1.0</td>\n",
       "      <td>99.99</td>\n",
       "      <td>04/07/19 22:30</td>\n",
       "      <td>682 Chestnut St, Boston, MA 02215</td>\n",
       "      <td>99.99</td>\n",
       "    </tr>\n",
       "    <tr>\n",
       "      <td>3</td>\n",
       "      <td>176560</td>\n",
       "      <td>Google Phone</td>\n",
       "      <td>1.0</td>\n",
       "      <td>600.00</td>\n",
       "      <td>04/12/19 14:38</td>\n",
       "      <td>669 Spruce St, Los Angeles, CA 90001</td>\n",
       "      <td>600.00</td>\n",
       "    </tr>\n",
       "    <tr>\n",
       "      <td>4</td>\n",
       "      <td>176560</td>\n",
       "      <td>Wired Headphones</td>\n",
       "      <td>1.0</td>\n",
       "      <td>11.99</td>\n",
       "      <td>04/12/19 14:38</td>\n",
       "      <td>669 Spruce St, Los Angeles, CA 90001</td>\n",
       "      <td>11.99</td>\n",
       "    </tr>\n",
       "    <tr>\n",
       "      <td>5</td>\n",
       "      <td>176561</td>\n",
       "      <td>Wired Headphones</td>\n",
       "      <td>1.0</td>\n",
       "      <td>11.99</td>\n",
       "      <td>04/30/19 09:27</td>\n",
       "      <td>333 8th St, Los Angeles, CA 90001</td>\n",
       "      <td>11.99</td>\n",
       "    </tr>\n",
       "  </tbody>\n",
       "</table>\n",
       "</div>"
      ],
      "text/plain": [
       "  Order ID                     Product  Quantity Ordered  Price Each  \\\n",
       "0   176558        USB-C Charging Cable               2.0       11.95   \n",
       "2   176559  Bose SoundSport Headphones               1.0       99.99   \n",
       "3   176560                Google Phone               1.0      600.00   \n",
       "4   176560            Wired Headphones               1.0       11.99   \n",
       "5   176561            Wired Headphones               1.0       11.99   \n",
       "\n",
       "       Order Date                      Purchase Address  Total sales  \n",
       "0  04/19/19 08:46          917 1st St, Dallas, TX 75001        23.90  \n",
       "2  04/07/19 22:30     682 Chestnut St, Boston, MA 02215        99.99  \n",
       "3  04/12/19 14:38  669 Spruce St, Los Angeles, CA 90001       600.00  \n",
       "4  04/12/19 14:38  669 Spruce St, Los Angeles, CA 90001        11.99  \n",
       "5  04/30/19 09:27     333 8th St, Los Angeles, CA 90001        11.99  "
      ]
     },
     "execution_count": 368,
     "metadata": {},
     "output_type": "execute_result"
    }
   ],
   "source": [
    "all_data['Total sales'] = all_data['Quantity Ordered'] * all_data['Price Each']\n",
    "all_data.head()"
   ]
  },
  {
   "cell_type": "markdown",
   "metadata": {},
   "source": [
    "### clean order date column"
   ]
  },
  {
   "cell_type": "code",
   "execution_count": 369,
   "metadata": {},
   "outputs": [
    {
     "data": {
      "text/html": [
       "<div>\n",
       "<style scoped>\n",
       "    .dataframe tbody tr th:only-of-type {\n",
       "        vertical-align: middle;\n",
       "    }\n",
       "\n",
       "    .dataframe tbody tr th {\n",
       "        vertical-align: top;\n",
       "    }\n",
       "\n",
       "    .dataframe thead th {\n",
       "        text-align: right;\n",
       "    }\n",
       "</style>\n",
       "<table border=\"1\" class=\"dataframe\">\n",
       "  <thead>\n",
       "    <tr style=\"text-align: right;\">\n",
       "      <th></th>\n",
       "      <th>Order ID</th>\n",
       "      <th>Product</th>\n",
       "      <th>Quantity Ordered</th>\n",
       "      <th>Price Each</th>\n",
       "      <th>Order Date</th>\n",
       "      <th>Purchase Address</th>\n",
       "      <th>Total sales</th>\n",
       "    </tr>\n",
       "  </thead>\n",
       "  <tbody>\n",
       "    <tr>\n",
       "      <td>0</td>\n",
       "      <td>176558</td>\n",
       "      <td>USB-C Charging Cable</td>\n",
       "      <td>2.0</td>\n",
       "      <td>11.95</td>\n",
       "      <td>04/19/19 08:46</td>\n",
       "      <td>917 1st St, Dallas, TX 75001</td>\n",
       "      <td>23.90</td>\n",
       "    </tr>\n",
       "    <tr>\n",
       "      <td>2</td>\n",
       "      <td>176559</td>\n",
       "      <td>Bose SoundSport Headphones</td>\n",
       "      <td>1.0</td>\n",
       "      <td>99.99</td>\n",
       "      <td>04/07/19 22:30</td>\n",
       "      <td>682 Chestnut St, Boston, MA 02215</td>\n",
       "      <td>99.99</td>\n",
       "    </tr>\n",
       "    <tr>\n",
       "      <td>3</td>\n",
       "      <td>176560</td>\n",
       "      <td>Google Phone</td>\n",
       "      <td>1.0</td>\n",
       "      <td>600.00</td>\n",
       "      <td>04/12/19 14:38</td>\n",
       "      <td>669 Spruce St, Los Angeles, CA 90001</td>\n",
       "      <td>600.00</td>\n",
       "    </tr>\n",
       "    <tr>\n",
       "      <td>4</td>\n",
       "      <td>176560</td>\n",
       "      <td>Wired Headphones</td>\n",
       "      <td>1.0</td>\n",
       "      <td>11.99</td>\n",
       "      <td>04/12/19 14:38</td>\n",
       "      <td>669 Spruce St, Los Angeles, CA 90001</td>\n",
       "      <td>11.99</td>\n",
       "    </tr>\n",
       "    <tr>\n",
       "      <td>5</td>\n",
       "      <td>176561</td>\n",
       "      <td>Wired Headphones</td>\n",
       "      <td>1.0</td>\n",
       "      <td>11.99</td>\n",
       "      <td>04/30/19 09:27</td>\n",
       "      <td>333 8th St, Los Angeles, CA 90001</td>\n",
       "      <td>11.99</td>\n",
       "    </tr>\n",
       "  </tbody>\n",
       "</table>\n",
       "</div>"
      ],
      "text/plain": [
       "  Order ID                     Product  Quantity Ordered  Price Each  \\\n",
       "0   176558        USB-C Charging Cable               2.0       11.95   \n",
       "2   176559  Bose SoundSport Headphones               1.0       99.99   \n",
       "3   176560                Google Phone               1.0      600.00   \n",
       "4   176560            Wired Headphones               1.0       11.99   \n",
       "5   176561            Wired Headphones               1.0       11.99   \n",
       "\n",
       "       Order Date                      Purchase Address  Total sales  \n",
       "0  04/19/19 08:46          917 1st St, Dallas, TX 75001        23.90  \n",
       "2  04/07/19 22:30     682 Chestnut St, Boston, MA 02215        99.99  \n",
       "3  04/12/19 14:38  669 Spruce St, Los Angeles, CA 90001       600.00  \n",
       "4  04/12/19 14:38  669 Spruce St, Los Angeles, CA 90001        11.99  \n",
       "5  04/30/19 09:27     333 8th St, Los Angeles, CA 90001        11.99  "
      ]
     },
     "execution_count": 369,
     "metadata": {},
     "output_type": "execute_result"
    }
   ],
   "source": [
    "all_data = all_data[all_data['Order Date'].str[0:2] != 'Or']\n",
    "all_data.head()"
   ]
  },
  {
   "cell_type": "markdown",
   "metadata": {},
   "source": [
    "### create month column and change to int32"
   ]
  },
  {
   "cell_type": "code",
   "execution_count": 370,
   "metadata": {},
   "outputs": [
    {
     "data": {
      "text/html": [
       "<div>\n",
       "<style scoped>\n",
       "    .dataframe tbody tr th:only-of-type {\n",
       "        vertical-align: middle;\n",
       "    }\n",
       "\n",
       "    .dataframe tbody tr th {\n",
       "        vertical-align: top;\n",
       "    }\n",
       "\n",
       "    .dataframe thead th {\n",
       "        text-align: right;\n",
       "    }\n",
       "</style>\n",
       "<table border=\"1\" class=\"dataframe\">\n",
       "  <thead>\n",
       "    <tr style=\"text-align: right;\">\n",
       "      <th></th>\n",
       "      <th>Order ID</th>\n",
       "      <th>Product</th>\n",
       "      <th>Quantity Ordered</th>\n",
       "      <th>Price Each</th>\n",
       "      <th>Order Date</th>\n",
       "      <th>Purchase Address</th>\n",
       "      <th>Total sales</th>\n",
       "      <th>Month</th>\n",
       "    </tr>\n",
       "  </thead>\n",
       "  <tbody>\n",
       "    <tr>\n",
       "      <td>0</td>\n",
       "      <td>176558</td>\n",
       "      <td>USB-C Charging Cable</td>\n",
       "      <td>2.0</td>\n",
       "      <td>11.95</td>\n",
       "      <td>04/19/19 08:46</td>\n",
       "      <td>917 1st St, Dallas, TX 75001</td>\n",
       "      <td>23.90</td>\n",
       "      <td>4</td>\n",
       "    </tr>\n",
       "    <tr>\n",
       "      <td>2</td>\n",
       "      <td>176559</td>\n",
       "      <td>Bose SoundSport Headphones</td>\n",
       "      <td>1.0</td>\n",
       "      <td>99.99</td>\n",
       "      <td>04/07/19 22:30</td>\n",
       "      <td>682 Chestnut St, Boston, MA 02215</td>\n",
       "      <td>99.99</td>\n",
       "      <td>4</td>\n",
       "    </tr>\n",
       "    <tr>\n",
       "      <td>3</td>\n",
       "      <td>176560</td>\n",
       "      <td>Google Phone</td>\n",
       "      <td>1.0</td>\n",
       "      <td>600.00</td>\n",
       "      <td>04/12/19 14:38</td>\n",
       "      <td>669 Spruce St, Los Angeles, CA 90001</td>\n",
       "      <td>600.00</td>\n",
       "      <td>4</td>\n",
       "    </tr>\n",
       "    <tr>\n",
       "      <td>4</td>\n",
       "      <td>176560</td>\n",
       "      <td>Wired Headphones</td>\n",
       "      <td>1.0</td>\n",
       "      <td>11.99</td>\n",
       "      <td>04/12/19 14:38</td>\n",
       "      <td>669 Spruce St, Los Angeles, CA 90001</td>\n",
       "      <td>11.99</td>\n",
       "      <td>4</td>\n",
       "    </tr>\n",
       "    <tr>\n",
       "      <td>5</td>\n",
       "      <td>176561</td>\n",
       "      <td>Wired Headphones</td>\n",
       "      <td>1.0</td>\n",
       "      <td>11.99</td>\n",
       "      <td>04/30/19 09:27</td>\n",
       "      <td>333 8th St, Los Angeles, CA 90001</td>\n",
       "      <td>11.99</td>\n",
       "      <td>4</td>\n",
       "    </tr>\n",
       "  </tbody>\n",
       "</table>\n",
       "</div>"
      ],
      "text/plain": [
       "  Order ID                     Product  Quantity Ordered  Price Each  \\\n",
       "0   176558        USB-C Charging Cable               2.0       11.95   \n",
       "2   176559  Bose SoundSport Headphones               1.0       99.99   \n",
       "3   176560                Google Phone               1.0      600.00   \n",
       "4   176560            Wired Headphones               1.0       11.99   \n",
       "5   176561            Wired Headphones               1.0       11.99   \n",
       "\n",
       "       Order Date                      Purchase Address  Total sales  Month  \n",
       "0  04/19/19 08:46          917 1st St, Dallas, TX 75001        23.90      4  \n",
       "2  04/07/19 22:30     682 Chestnut St, Boston, MA 02215        99.99      4  \n",
       "3  04/12/19 14:38  669 Spruce St, Los Angeles, CA 90001       600.00      4  \n",
       "4  04/12/19 14:38  669 Spruce St, Los Angeles, CA 90001        11.99      4  \n",
       "5  04/30/19 09:27     333 8th St, Los Angeles, CA 90001        11.99      4  "
      ]
     },
     "execution_count": 370,
     "metadata": {},
     "output_type": "execute_result"
    }
   ],
   "source": [
    "all_data['Month'] = all_data['Order Date'].str[0:2]\n",
    "all_data['Month'] = pd.to_numeric(all_data['Month'], errors='coerce')\n",
    "all_data.head()"
   ]
  },
  {
   "cell_type": "markdown",
   "metadata": {},
   "source": [
    "### group sales by month"
   ]
  },
  {
   "cell_type": "code",
   "execution_count": 371,
   "metadata": {},
   "outputs": [
    {
     "data": {
      "image/png": "[encoded data removed]",
      "text/plain": [
       "<Figure size 432x288 with 1 Axes>"
      ]
     },
     "metadata": {
      "needs_background": "light"
     },
     "output_type": "display_data"
    },
    {
     "name": "stdout",
     "output_type": "stream",
     "text": [
      "Best month for sales was December\n"
     ]
    }
   ],
   "source": [
    "import matplotlib.pyplot as plt\n",
    "import numpy as np\n",
    "\n",
    "results = all_data.groupby(['Month']).sum()\n",
    "months = np.arange(1,13)\n",
    "plt.bar(months, results['Total sales'])\n",
    "plt.xticks(months)\n",
    "_ = plt.xlabel('Month')\n",
    "_ = plt.ylabel('Total sales in USD')\n",
    "plt.show()\n",
    "print('Best month for sales was December')"
   ]
  },
  {
   "cell_type": "markdown",
   "metadata": {},
   "source": [
    "### How much was earned in December?"
   ]
  },
  {
   "cell_type": "code",
   "execution_count": 372,
   "metadata": {},
   "outputs": [
    {
     "name": "stdout",
     "output_type": "stream",
     "text": [
      "The total sales for december was: 4613443.340001534\n"
     ]
    }
   ],
   "source": [
    "best_month = results['Total sales'].max()\n",
    "print('The total sales for december was: ' + str(best_month))"
   ]
  },
  {
   "cell_type": "markdown",
   "metadata": {},
   "source": [
    "### What US city had the highest number of sales?"
   ]
  },
  {
   "cell_type": "markdown",
   "metadata": {},
   "source": [
    "### create new column for state"
   ]
  },
  {
   "cell_type": "code",
   "execution_count": 373,
   "metadata": {},
   "outputs": [
    {
     "data": {
      "text/html": [
       "<div>\n",
       "<style scoped>\n",
       "    .dataframe tbody tr th:only-of-type {\n",
       "        vertical-align: middle;\n",
       "    }\n",
       "\n",
       "    .dataframe tbody tr th {\n",
       "        vertical-align: top;\n",
       "    }\n",
       "\n",
       "    .dataframe thead th {\n",
       "        text-align: right;\n",
       "    }\n",
       "</style>\n",
       "<table border=\"1\" class=\"dataframe\">\n",
       "  <thead>\n",
       "    <tr style=\"text-align: right;\">\n",
       "      <th></th>\n",
       "      <th>Order ID</th>\n",
       "      <th>Product</th>\n",
       "      <th>Quantity Ordered</th>\n",
       "      <th>Price Each</th>\n",
       "      <th>Order Date</th>\n",
       "      <th>Purchase Address</th>\n",
       "      <th>Total sales</th>\n",
       "      <th>Month</th>\n",
       "      <th>City</th>\n",
       "    </tr>\n",
       "  </thead>\n",
       "  <tbody>\n",
       "    <tr>\n",
       "      <td>0</td>\n",
       "      <td>176558</td>\n",
       "      <td>USB-C Charging Cable</td>\n",
       "      <td>2.0</td>\n",
       "      <td>11.95</td>\n",
       "      <td>04/19/19 08:46</td>\n",
       "      <td>917 1st St, Dallas, TX 75001</td>\n",
       "      <td>23.90</td>\n",
       "      <td>4</td>\n",
       "      <td>Dallas (TX)</td>\n",
       "    </tr>\n",
       "    <tr>\n",
       "      <td>2</td>\n",
       "      <td>176559</td>\n",
       "      <td>Bose SoundSport Headphones</td>\n",
       "      <td>1.0</td>\n",
       "      <td>99.99</td>\n",
       "      <td>04/07/19 22:30</td>\n",
       "      <td>682 Chestnut St, Boston, MA 02215</td>\n",
       "      <td>99.99</td>\n",
       "      <td>4</td>\n",
       "      <td>Boston (MA)</td>\n",
       "    </tr>\n",
       "    <tr>\n",
       "      <td>3</td>\n",
       "      <td>176560</td>\n",
       "      <td>Google Phone</td>\n",
       "      <td>1.0</td>\n",
       "      <td>600.00</td>\n",
       "      <td>04/12/19 14:38</td>\n",
       "      <td>669 Spruce St, Los Angeles, CA 90001</td>\n",
       "      <td>600.00</td>\n",
       "      <td>4</td>\n",
       "      <td>Los Angeles (CA)</td>\n",
       "    </tr>\n",
       "    <tr>\n",
       "      <td>4</td>\n",
       "      <td>176560</td>\n",
       "      <td>Wired Headphones</td>\n",
       "      <td>1.0</td>\n",
       "      <td>11.99</td>\n",
       "      <td>04/12/19 14:38</td>\n",
       "      <td>669 Spruce St, Los Angeles, CA 90001</td>\n",
       "      <td>11.99</td>\n",
       "      <td>4</td>\n",
       "      <td>Los Angeles (CA)</td>\n",
       "    </tr>\n",
       "    <tr>\n",
       "      <td>5</td>\n",
       "      <td>176561</td>\n",
       "      <td>Wired Headphones</td>\n",
       "      <td>1.0</td>\n",
       "      <td>11.99</td>\n",
       "      <td>04/30/19 09:27</td>\n",
       "      <td>333 8th St, Los Angeles, CA 90001</td>\n",
       "      <td>11.99</td>\n",
       "      <td>4</td>\n",
       "      <td>Los Angeles (CA)</td>\n",
       "    </tr>\n",
       "    <tr>\n",
       "      <td>...</td>\n",
       "      <td>...</td>\n",
       "      <td>...</td>\n",
       "      <td>...</td>\n",
       "      <td>...</td>\n",
       "      <td>...</td>\n",
       "      <td>...</td>\n",
       "      <td>...</td>\n",
       "      <td>...</td>\n",
       "      <td>...</td>\n",
       "    </tr>\n",
       "    <tr>\n",
       "      <td>186845</td>\n",
       "      <td>259353</td>\n",
       "      <td>AAA Batteries (4-pack)</td>\n",
       "      <td>3.0</td>\n",
       "      <td>2.99</td>\n",
       "      <td>09/17/19 20:56</td>\n",
       "      <td>840 Highland St, Los Angeles, CA 90001</td>\n",
       "      <td>8.97</td>\n",
       "      <td>9</td>\n",
       "      <td>Los Angeles (CA)</td>\n",
       "    </tr>\n",
       "    <tr>\n",
       "      <td>186846</td>\n",
       "      <td>259354</td>\n",
       "      <td>iPhone</td>\n",
       "      <td>1.0</td>\n",
       "      <td>700.00</td>\n",
       "      <td>09/01/19 16:00</td>\n",
       "      <td>216 Dogwood St, San Francisco, CA 94016</td>\n",
       "      <td>700.00</td>\n",
       "      <td>9</td>\n",
       "      <td>San Francisco (CA)</td>\n",
       "    </tr>\n",
       "    <tr>\n",
       "      <td>186847</td>\n",
       "      <td>259355</td>\n",
       "      <td>iPhone</td>\n",
       "      <td>1.0</td>\n",
       "      <td>700.00</td>\n",
       "      <td>09/23/19 07:39</td>\n",
       "      <td>220 12th St, San Francisco, CA 94016</td>\n",
       "      <td>700.00</td>\n",
       "      <td>9</td>\n",
       "      <td>San Francisco (CA)</td>\n",
       "    </tr>\n",
       "    <tr>\n",
       "      <td>186848</td>\n",
       "      <td>259356</td>\n",
       "      <td>34in Ultrawide Monitor</td>\n",
       "      <td>1.0</td>\n",
       "      <td>379.99</td>\n",
       "      <td>09/19/19 17:30</td>\n",
       "      <td>511 Forest St, San Francisco, CA 94016</td>\n",
       "      <td>379.99</td>\n",
       "      <td>9</td>\n",
       "      <td>San Francisco (CA)</td>\n",
       "    </tr>\n",
       "    <tr>\n",
       "      <td>186849</td>\n",
       "      <td>259357</td>\n",
       "      <td>USB-C Charging Cable</td>\n",
       "      <td>1.0</td>\n",
       "      <td>11.95</td>\n",
       "      <td>09/30/19 00:18</td>\n",
       "      <td>250 Meadow St, San Francisco, CA 94016</td>\n",
       "      <td>11.95</td>\n",
       "      <td>9</td>\n",
       "      <td>San Francisco (CA)</td>\n",
       "    </tr>\n",
       "  </tbody>\n",
       "</table>\n",
       "<p>185950 rows × 9 columns</p>\n",
       "</div>"
      ],
      "text/plain": [
       "       Order ID                     Product  Quantity Ordered  Price Each  \\\n",
       "0        176558        USB-C Charging Cable               2.0       11.95   \n",
       "2        176559  Bose SoundSport Headphones               1.0       99.99   \n",
       "3        176560                Google Phone               1.0      600.00   \n",
       "4        176560            Wired Headphones               1.0       11.99   \n",
       "5        176561            Wired Headphones               1.0       11.99   \n",
       "...         ...                         ...               ...         ...   \n",
       "186845   259353      AAA Batteries (4-pack)               3.0        2.99   \n",
       "186846   259354                      iPhone               1.0      700.00   \n",
       "186847   259355                      iPhone               1.0      700.00   \n",
       "186848   259356      34in Ultrawide Monitor               1.0      379.99   \n",
       "186849   259357        USB-C Charging Cable               1.0       11.95   \n",
       "\n",
       "            Order Date                         Purchase Address  Total sales  \\\n",
       "0       04/19/19 08:46             917 1st St, Dallas, TX 75001        23.90   \n",
       "2       04/07/19 22:30        682 Chestnut St, Boston, MA 02215        99.99   \n",
       "3       04/12/19 14:38     669 Spruce St, Los Angeles, CA 90001       600.00   \n",
       "4       04/12/19 14:38     669 Spruce St, Los Angeles, CA 90001        11.99   \n",
       "5       04/30/19 09:27        333 8th St, Los Angeles, CA 90001        11.99   \n",
       "...                ...                                      ...          ...   \n",
       "186845  09/17/19 20:56   840 Highland St, Los Angeles, CA 90001         8.97   \n",
       "186846  09/01/19 16:00  216 Dogwood St, San Francisco, CA 94016       700.00   \n",
       "186847  09/23/19 07:39     220 12th St, San Francisco, CA 94016       700.00   \n",
       "186848  09/19/19 17:30   511 Forest St, San Francisco, CA 94016       379.99   \n",
       "186849  09/30/19 00:18   250 Meadow St, San Francisco, CA 94016        11.95   \n",
       "\n",
       "        Month                 City  \n",
       "0           4          Dallas (TX)  \n",
       "2           4          Boston (MA)  \n",
       "3           4     Los Angeles (CA)  \n",
       "4           4     Los Angeles (CA)  \n",
       "5           4     Los Angeles (CA)  \n",
       "...       ...                  ...  \n",
       "186845      9     Los Angeles (CA)  \n",
       "186846      9   San Francisco (CA)  \n",
       "186847      9   San Francisco (CA)  \n",
       "186848      9   San Francisco (CA)  \n",
       "186849      9   San Francisco (CA)  \n",
       "\n",
       "[185950 rows x 9 columns]"
      ]
     },
     "execution_count": 373,
     "metadata": {},
     "output_type": "execute_result"
    }
   ],
   "source": [
    "def get_city(address):\n",
    "    return address.split(',')[1]\n",
    "def get_state(state_code):\n",
    "    return state_code.split(',')[2].split(' ')[1]\n",
    "all_data['City'] = all_data['Purchase Address'].apply(lambda x: f'{get_city(x)} ({get_state(x)})')\n",
    "all_data"
   ]
  },
  {
   "cell_type": "code",
   "execution_count": 374,
   "metadata": {},
   "outputs": [
    {
     "data": {
      "text/html": [
       "<div>\n",
       "<style scoped>\n",
       "    .dataframe tbody tr th:only-of-type {\n",
       "        vertical-align: middle;\n",
       "    }\n",
       "\n",
       "    .dataframe tbody tr th {\n",
       "        vertical-align: top;\n",
       "    }\n",
       "\n",
       "    .dataframe thead th {\n",
       "        text-align: right;\n",
       "    }\n",
       "</style>\n",
       "<table border=\"1\" class=\"dataframe\">\n",
       "  <thead>\n",
       "    <tr style=\"text-align: right;\">\n",
       "      <th></th>\n",
       "      <th>Quantity Ordered</th>\n",
       "      <th>Price Each</th>\n",
       "      <th>Total sales</th>\n",
       "      <th>Month</th>\n",
       "    </tr>\n",
       "    <tr>\n",
       "      <th>City</th>\n",
       "      <th></th>\n",
       "      <th></th>\n",
       "      <th></th>\n",
       "      <th></th>\n",
       "    </tr>\n",
       "  </thead>\n",
       "  <tbody>\n",
       "    <tr>\n",
       "      <td>Atlanta (GA)</td>\n",
       "      <td>16602.0</td>\n",
       "      <td>2.779908e+06</td>\n",
       "      <td>2.795499e+06</td>\n",
       "      <td>104794</td>\n",
       "    </tr>\n",
       "    <tr>\n",
       "      <td>Austin (TX)</td>\n",
       "      <td>11153.0</td>\n",
       "      <td>1.809874e+06</td>\n",
       "      <td>1.819582e+06</td>\n",
       "      <td>69829</td>\n",
       "    </tr>\n",
       "    <tr>\n",
       "      <td>Boston (MA)</td>\n",
       "      <td>22528.0</td>\n",
       "      <td>3.637410e+06</td>\n",
       "      <td>3.661642e+06</td>\n",
       "      <td>141112</td>\n",
       "    </tr>\n",
       "    <tr>\n",
       "      <td>Dallas (TX)</td>\n",
       "      <td>16730.0</td>\n",
       "      <td>2.752628e+06</td>\n",
       "      <td>2.767975e+06</td>\n",
       "      <td>104620</td>\n",
       "    </tr>\n",
       "    <tr>\n",
       "      <td>Los Angeles (CA)</td>\n",
       "      <td>33289.0</td>\n",
       "      <td>5.421435e+06</td>\n",
       "      <td>5.452571e+06</td>\n",
       "      <td>208325</td>\n",
       "    </tr>\n",
       "    <tr>\n",
       "      <td>New York City (NY)</td>\n",
       "      <td>27932.0</td>\n",
       "      <td>4.635371e+06</td>\n",
       "      <td>4.664317e+06</td>\n",
       "      <td>175741</td>\n",
       "    </tr>\n",
       "    <tr>\n",
       "      <td>Portland (ME)</td>\n",
       "      <td>2750.0</td>\n",
       "      <td>4.471893e+05</td>\n",
       "      <td>4.497583e+05</td>\n",
       "      <td>17144</td>\n",
       "    </tr>\n",
       "    <tr>\n",
       "      <td>Portland (OR)</td>\n",
       "      <td>11303.0</td>\n",
       "      <td>1.860558e+06</td>\n",
       "      <td>1.870732e+06</td>\n",
       "      <td>70621</td>\n",
       "    </tr>\n",
       "    <tr>\n",
       "      <td>San Francisco (CA)</td>\n",
       "      <td>50239.0</td>\n",
       "      <td>8.211462e+06</td>\n",
       "      <td>8.262204e+06</td>\n",
       "      <td>315520</td>\n",
       "    </tr>\n",
       "    <tr>\n",
       "      <td>Seattle (WA)</td>\n",
       "      <td>16553.0</td>\n",
       "      <td>2.733296e+06</td>\n",
       "      <td>2.747755e+06</td>\n",
       "      <td>104941</td>\n",
       "    </tr>\n",
       "  </tbody>\n",
       "</table>\n",
       "</div>"
      ],
      "text/plain": [
       "                     Quantity Ordered    Price Each   Total sales   Month\n",
       "City                                                                     \n",
       " Atlanta (GA)                 16602.0  2.779908e+06  2.795499e+06  104794\n",
       " Austin (TX)                  11153.0  1.809874e+06  1.819582e+06   69829\n",
       " Boston (MA)                  22528.0  3.637410e+06  3.661642e+06  141112\n",
       " Dallas (TX)                  16730.0  2.752628e+06  2.767975e+06  104620\n",
       " Los Angeles (CA)             33289.0  5.421435e+06  5.452571e+06  208325\n",
       " New York City (NY)           27932.0  4.635371e+06  4.664317e+06  175741\n",
       " Portland (ME)                 2750.0  4.471893e+05  4.497583e+05   17144\n",
       " Portland (OR)                11303.0  1.860558e+06  1.870732e+06   70621\n",
       " San Francisco (CA)           50239.0  8.211462e+06  8.262204e+06  315520\n",
       " Seattle (WA)                 16553.0  2.733296e+06  2.747755e+06  104941"
      ]
     },
     "execution_count": 374,
     "metadata": {},
     "output_type": "execute_result"
    }
   ],
   "source": [
    "results_state = all_data.groupby(['City']).sum()\n",
    "results_state"
   ]
  },
  {
   "cell_type": "code",
   "execution_count": 375,
   "metadata": {},
   "outputs": [
    {
     "data": {
      "text/plain": [
       "<function matplotlib.pyplot.show(*args, **kw)>"
      ]
     },
     "execution_count": 375,
     "metadata": {},
     "output_type": "execute_result"
    },
    {
     "data": {
      "image/png": "[encoded data removed]",
      "text/plain": [
       "<Figure size 432x288 with 1 Axes>"
      ]
     },
     "metadata": {
      "needs_background": "light"
     },
     "output_type": "display_data"
    }
   ],
   "source": [
    "city = [city for city, df in all_data.groupby(['City'])]\n",
    "\n",
    "plt.bar(city, results_state['Total sales'])\n",
    "plt.xticks(city, rotation=75, size=15)\n",
    "plt.yticks(size=15)\n",
    "_ = plt.xlabel('City', size=15)\n",
    "_ = plt.ylabel('Sales in US dollars', size=15)\n",
    "plt.show"
   ]
  },
  {
   "cell_type": "markdown",
   "metadata": {},
   "source": [
    "### How high was sales in the highest earning city?"
   ]
  },
  {
   "cell_type": "code",
   "execution_count": 376,
   "metadata": {},
   "outputs": [
    {
     "name": "stdout",
     "output_type": "stream",
     "text": [
      "The best earning city is San Fransisco with: 8262203.910004012 in sales.\n"
     ]
    }
   ],
   "source": [
    "results_state = all_data.groupby(['City']).sum()\n",
    "best_city = results_state['Total sales'].max()\n",
    "print('The best earning city is San Fransisco with: ' + str(best_city) + ' in sales.')"
   ]
  },
  {
   "cell_type": "markdown",
   "metadata": {},
   "source": [
    "### what time should we display advertisements to maximize likelihood of customer's buying product?"
   ]
  },
  {
   "cell_type": "code",
   "execution_count": 377,
   "metadata": {},
   "outputs": [
    {
     "data": {
      "text/html": [
       "<div>\n",
       "<style scoped>\n",
       "    .dataframe tbody tr th:only-of-type {\n",
       "        vertical-align: middle;\n",
       "    }\n",
       "\n",
       "    .dataframe tbody tr th {\n",
       "        vertical-align: top;\n",
       "    }\n",
       "\n",
       "    .dataframe thead th {\n",
       "        text-align: right;\n",
       "    }\n",
       "</style>\n",
       "<table border=\"1\" class=\"dataframe\">\n",
       "  <thead>\n",
       "    <tr style=\"text-align: right;\">\n",
       "      <th></th>\n",
       "      <th>Order ID</th>\n",
       "      <th>Product</th>\n",
       "      <th>Quantity Ordered</th>\n",
       "      <th>Price Each</th>\n",
       "      <th>Order Date</th>\n",
       "      <th>Purchase Address</th>\n",
       "      <th>Total sales</th>\n",
       "      <th>Month</th>\n",
       "      <th>City</th>\n",
       "    </tr>\n",
       "  </thead>\n",
       "  <tbody>\n",
       "    <tr>\n",
       "      <td>0</td>\n",
       "      <td>176558</td>\n",
       "      <td>USB-C Charging Cable</td>\n",
       "      <td>2.0</td>\n",
       "      <td>11.95</td>\n",
       "      <td>2019-04-19 08:46:00</td>\n",
       "      <td>917 1st St, Dallas, TX 75001</td>\n",
       "      <td>23.90</td>\n",
       "      <td>4</td>\n",
       "      <td>Dallas (TX)</td>\n",
       "    </tr>\n",
       "    <tr>\n",
       "      <td>2</td>\n",
       "      <td>176559</td>\n",
       "      <td>Bose SoundSport Headphones</td>\n",
       "      <td>1.0</td>\n",
       "      <td>99.99</td>\n",
       "      <td>2019-04-07 22:30:00</td>\n",
       "      <td>682 Chestnut St, Boston, MA 02215</td>\n",
       "      <td>99.99</td>\n",
       "      <td>4</td>\n",
       "      <td>Boston (MA)</td>\n",
       "    </tr>\n",
       "    <tr>\n",
       "      <td>3</td>\n",
       "      <td>176560</td>\n",
       "      <td>Google Phone</td>\n",
       "      <td>1.0</td>\n",
       "      <td>600.00</td>\n",
       "      <td>2019-04-12 14:38:00</td>\n",
       "      <td>669 Spruce St, Los Angeles, CA 90001</td>\n",
       "      <td>600.00</td>\n",
       "      <td>4</td>\n",
       "      <td>Los Angeles (CA)</td>\n",
       "    </tr>\n",
       "    <tr>\n",
       "      <td>4</td>\n",
       "      <td>176560</td>\n",
       "      <td>Wired Headphones</td>\n",
       "      <td>1.0</td>\n",
       "      <td>11.99</td>\n",
       "      <td>2019-04-12 14:38:00</td>\n",
       "      <td>669 Spruce St, Los Angeles, CA 90001</td>\n",
       "      <td>11.99</td>\n",
       "      <td>4</td>\n",
       "      <td>Los Angeles (CA)</td>\n",
       "    </tr>\n",
       "    <tr>\n",
       "      <td>5</td>\n",
       "      <td>176561</td>\n",
       "      <td>Wired Headphones</td>\n",
       "      <td>1.0</td>\n",
       "      <td>11.99</td>\n",
       "      <td>2019-04-30 09:27:00</td>\n",
       "      <td>333 8th St, Los Angeles, CA 90001</td>\n",
       "      <td>11.99</td>\n",
       "      <td>4</td>\n",
       "      <td>Los Angeles (CA)</td>\n",
       "    </tr>\n",
       "  </tbody>\n",
       "</table>\n",
       "</div>"
      ],
      "text/plain": [
       "  Order ID                     Product  Quantity Ordered  Price Each  \\\n",
       "0   176558        USB-C Charging Cable               2.0       11.95   \n",
       "2   176559  Bose SoundSport Headphones               1.0       99.99   \n",
       "3   176560                Google Phone               1.0      600.00   \n",
       "4   176560            Wired Headphones               1.0       11.99   \n",
       "5   176561            Wired Headphones               1.0       11.99   \n",
       "\n",
       "           Order Date                      Purchase Address  Total sales  \\\n",
       "0 2019-04-19 08:46:00          917 1st St, Dallas, TX 75001        23.90   \n",
       "2 2019-04-07 22:30:00     682 Chestnut St, Boston, MA 02215        99.99   \n",
       "3 2019-04-12 14:38:00  669 Spruce St, Los Angeles, CA 90001       600.00   \n",
       "4 2019-04-12 14:38:00  669 Spruce St, Los Angeles, CA 90001        11.99   \n",
       "5 2019-04-30 09:27:00     333 8th St, Los Angeles, CA 90001        11.99   \n",
       "\n",
       "   Month               City  \n",
       "0      4        Dallas (TX)  \n",
       "2      4        Boston (MA)  \n",
       "3      4   Los Angeles (CA)  \n",
       "4      4   Los Angeles (CA)  \n",
       "5      4   Los Angeles (CA)  "
      ]
     },
     "execution_count": 377,
     "metadata": {},
     "output_type": "execute_result"
    }
   ],
   "source": [
    "all_data['Order Date'] = pd.to_datetime(all_data['Order Date'])\n",
    "all_data.head()"
   ]
  },
  {
   "cell_type": "code",
   "execution_count": 378,
   "metadata": {},
   "outputs": [
    {
     "data": {
      "text/html": [
       "<div>\n",
       "<style scoped>\n",
       "    .dataframe tbody tr th:only-of-type {\n",
       "        vertical-align: middle;\n",
       "    }\n",
       "\n",
       "    .dataframe tbody tr th {\n",
       "        vertical-align: top;\n",
       "    }\n",
       "\n",
       "    .dataframe thead th {\n",
       "        text-align: right;\n",
       "    }\n",
       "</style>\n",
       "<table border=\"1\" class=\"dataframe\">\n",
       "  <thead>\n",
       "    <tr style=\"text-align: right;\">\n",
       "      <th></th>\n",
       "      <th>Order ID</th>\n",
       "      <th>Product</th>\n",
       "      <th>Quantity Ordered</th>\n",
       "      <th>Price Each</th>\n",
       "      <th>Order Date</th>\n",
       "      <th>Purchase Address</th>\n",
       "      <th>Total sales</th>\n",
       "      <th>Month</th>\n",
       "      <th>City</th>\n",
       "      <th>Hour</th>\n",
       "      <th>Minute</th>\n",
       "    </tr>\n",
       "  </thead>\n",
       "  <tbody>\n",
       "    <tr>\n",
       "      <td>0</td>\n",
       "      <td>176558</td>\n",
       "      <td>USB-C Charging Cable</td>\n",
       "      <td>2.0</td>\n",
       "      <td>11.95</td>\n",
       "      <td>2019-04-19 08:46:00</td>\n",
       "      <td>917 1st St, Dallas, TX 75001</td>\n",
       "      <td>23.90</td>\n",
       "      <td>4</td>\n",
       "      <td>Dallas (TX)</td>\n",
       "      <td>8</td>\n",
       "      <td>46</td>\n",
       "    </tr>\n",
       "    <tr>\n",
       "      <td>2</td>\n",
       "      <td>176559</td>\n",
       "      <td>Bose SoundSport Headphones</td>\n",
       "      <td>1.0</td>\n",
       "      <td>99.99</td>\n",
       "      <td>2019-04-07 22:30:00</td>\n",
       "      <td>682 Chestnut St, Boston, MA 02215</td>\n",
       "      <td>99.99</td>\n",
       "      <td>4</td>\n",
       "      <td>Boston (MA)</td>\n",
       "      <td>22</td>\n",
       "      <td>30</td>\n",
       "    </tr>\n",
       "    <tr>\n",
       "      <td>3</td>\n",
       "      <td>176560</td>\n",
       "      <td>Google Phone</td>\n",
       "      <td>1.0</td>\n",
       "      <td>600.00</td>\n",
       "      <td>2019-04-12 14:38:00</td>\n",
       "      <td>669 Spruce St, Los Angeles, CA 90001</td>\n",
       "      <td>600.00</td>\n",
       "      <td>4</td>\n",
       "      <td>Los Angeles (CA)</td>\n",
       "      <td>14</td>\n",
       "      <td>38</td>\n",
       "    </tr>\n",
       "    <tr>\n",
       "      <td>4</td>\n",
       "      <td>176560</td>\n",
       "      <td>Wired Headphones</td>\n",
       "      <td>1.0</td>\n",
       "      <td>11.99</td>\n",
       "      <td>2019-04-12 14:38:00</td>\n",
       "      <td>669 Spruce St, Los Angeles, CA 90001</td>\n",
       "      <td>11.99</td>\n",
       "      <td>4</td>\n",
       "      <td>Los Angeles (CA)</td>\n",
       "      <td>14</td>\n",
       "      <td>38</td>\n",
       "    </tr>\n",
       "    <tr>\n",
       "      <td>5</td>\n",
       "      <td>176561</td>\n",
       "      <td>Wired Headphones</td>\n",
       "      <td>1.0</td>\n",
       "      <td>11.99</td>\n",
       "      <td>2019-04-30 09:27:00</td>\n",
       "      <td>333 8th St, Los Angeles, CA 90001</td>\n",
       "      <td>11.99</td>\n",
       "      <td>4</td>\n",
       "      <td>Los Angeles (CA)</td>\n",
       "      <td>9</td>\n",
       "      <td>27</td>\n",
       "    </tr>\n",
       "  </tbody>\n",
       "</table>\n",
       "</div>"
      ],
      "text/plain": [
       "  Order ID                     Product  Quantity Ordered  Price Each  \\\n",
       "0   176558        USB-C Charging Cable               2.0       11.95   \n",
       "2   176559  Bose SoundSport Headphones               1.0       99.99   \n",
       "3   176560                Google Phone               1.0      600.00   \n",
       "4   176560            Wired Headphones               1.0       11.99   \n",
       "5   176561            Wired Headphones               1.0       11.99   \n",
       "\n",
       "           Order Date                      Purchase Address  Total sales  \\\n",
       "0 2019-04-19 08:46:00          917 1st St, Dallas, TX 75001        23.90   \n",
       "2 2019-04-07 22:30:00     682 Chestnut St, Boston, MA 02215        99.99   \n",
       "3 2019-04-12 14:38:00  669 Spruce St, Los Angeles, CA 90001       600.00   \n",
       "4 2019-04-12 14:38:00  669 Spruce St, Los Angeles, CA 90001        11.99   \n",
       "5 2019-04-30 09:27:00     333 8th St, Los Angeles, CA 90001        11.99   \n",
       "\n",
       "   Month               City  Hour  Minute  \n",
       "0      4        Dallas (TX)     8      46  \n",
       "2      4        Boston (MA)    22      30  \n",
       "3      4   Los Angeles (CA)    14      38  \n",
       "4      4   Los Angeles (CA)    14      38  \n",
       "5      4   Los Angeles (CA)     9      27  "
      ]
     },
     "execution_count": 378,
     "metadata": {},
     "output_type": "execute_result"
    }
   ],
   "source": [
    "import datetime as dt\n",
    "\n",
    "all_data['Hour'] = all_data['Order Date'].dt.hour\n",
    "all_data['Minute'] = all_data['Order Date'].dt.minute\n",
    "all_data.head()"
   ]
  },
  {
   "cell_type": "code",
   "execution_count": 348,
   "metadata": {},
   "outputs": [
    {
     "data": {
      "image/png": "[encoded data removed]",
      "text/plain": [
       "<Figure size 432x288 with 1 Axes>"
      ]
     },
     "metadata": {
      "needs_background": "light"
     },
     "output_type": "display_data"
    }
   ],
   "source": [
    "hour = [hour for hour, df in all_data.groupby('Hour')]\n",
    "\n",
    "plt.plot(hour, all_data.groupby('Hour').count())\n",
    "plt.xticks(hour)\n",
    "_ = plt.xlabel('Hour of day')\n",
    "_ = plt.ylabel('Amount of purchases')\n",
    "plt.grid()\n",
    "plt.show()"
   ]
  },
  {
   "cell_type": "markdown",
   "metadata": {},
   "source": [
    "### what products are most often sold together?"
   ]
  },
  {
   "cell_type": "code",
   "execution_count": 379,
   "metadata": {},
   "outputs": [
    {
     "name": "stderr",
     "output_type": "stream",
     "text": [
      "C:\\Users\\Dennis Besseling\\Anaconda3\\lib\\site-packages\\ipykernel_launcher.py:3: SettingWithCopyWarning: \n",
      "A value is trying to be set on a copy of a slice from a DataFrame.\n",
      "Try using .loc[row_indexer,col_indexer] = value instead\n",
      "\n",
      "See the caveats in the documentation: http://pandas.pydata.org/pandas-docs/stable/user_guide/indexing.html#returning-a-view-versus-a-copy\n",
      "  This is separate from the ipykernel package so we can avoid doing imports until\n"
     ]
    },
    {
     "data": {
      "text/html": [
       "<div>\n",
       "<style scoped>\n",
       "    .dataframe tbody tr th:only-of-type {\n",
       "        vertical-align: middle;\n",
       "    }\n",
       "\n",
       "    .dataframe tbody tr th {\n",
       "        vertical-align: top;\n",
       "    }\n",
       "\n",
       "    .dataframe thead th {\n",
       "        text-align: right;\n",
       "    }\n",
       "</style>\n",
       "<table border=\"1\" class=\"dataframe\">\n",
       "  <thead>\n",
       "    <tr style=\"text-align: right;\">\n",
       "      <th></th>\n",
       "      <th>Order ID</th>\n",
       "      <th>Grouped</th>\n",
       "    </tr>\n",
       "  </thead>\n",
       "  <tbody>\n",
       "    <tr>\n",
       "      <td>3</td>\n",
       "      <td>176560</td>\n",
       "      <td>Google Phone, Wired Headphones</td>\n",
       "    </tr>\n",
       "    <tr>\n",
       "      <td>18</td>\n",
       "      <td>176574</td>\n",
       "      <td>Google Phone, USB-C Charging Cable</td>\n",
       "    </tr>\n",
       "    <tr>\n",
       "      <td>30</td>\n",
       "      <td>176585</td>\n",
       "      <td>Bose SoundSport Headphones, Bose SoundSport He...</td>\n",
       "    </tr>\n",
       "    <tr>\n",
       "      <td>32</td>\n",
       "      <td>176586</td>\n",
       "      <td>AAA Batteries (4-pack), Google Phone</td>\n",
       "    </tr>\n",
       "    <tr>\n",
       "      <td>119</td>\n",
       "      <td>176672</td>\n",
       "      <td>Lightning Charging Cable, USB-C Charging Cable</td>\n",
       "    </tr>\n",
       "  </tbody>\n",
       "</table>\n",
       "</div>"
      ],
      "text/plain": [
       "    Order ID                                            Grouped\n",
       "3     176560                     Google Phone, Wired Headphones\n",
       "18    176574                 Google Phone, USB-C Charging Cable\n",
       "30    176585  Bose SoundSport Headphones, Bose SoundSport He...\n",
       "32    176586               AAA Batteries (4-pack), Google Phone\n",
       "119   176672     Lightning Charging Cable, USB-C Charging Cable"
      ]
     },
     "execution_count": 379,
     "metadata": {},
     "output_type": "execute_result"
    }
   ],
   "source": [
    "df = all_data[all_data['Order ID'].duplicated(keep=False)]\n",
    "\n",
    "df['Grouped'] = df.groupby('Order ID')['Product'].transform(lambda x: ', '.join(x))\n",
    "\n",
    "df = df[['Order ID', 'Grouped']].drop_duplicates()\n",
    "\n",
    "df.head()"
   ]
  },
  {
   "cell_type": "markdown",
   "metadata": {},
   "source": [
    "### count duplicates "
   ]
  },
  {
   "cell_type": "code",
   "execution_count": 389,
   "metadata": {},
   "outputs": [
    {
     "name": "stdout",
     "output_type": "stream",
     "text": [
      "('iPhone', ' Lightning Charging Cable') 1005\n",
      "('Google Phone', ' USB-C Charging Cable') 987\n",
      "('iPhone', ' Wired Headphones') 447\n",
      "('Google Phone', ' Wired Headphones') 414\n",
      "('Vareebadd Phone', ' USB-C Charging Cable') 361\n",
      "('iPhone', ' Apple Airpods Headphones') 360\n",
      "('Google Phone', ' Bose SoundSport Headphones') 220\n",
      "('Vareebadd Phone', ' Wired Headphones') 143\n",
      "(' USB-C Charging Cable', ' Wired Headphones') 120\n",
      "('Vareebadd Phone', ' Bose SoundSport Headphones') 80\n",
      "The products that sold the most together was iPhone + Lightning Charging Cable\n"
     ]
    }
   ],
   "source": [
    "from itertools import combinations\n",
    "from collections import Counter\n",
    "\n",
    "count = Counter()\n",
    "\n",
    "for row in df['Grouped']:\n",
    "    row_list = row.split(',')\n",
    "    count.update(Counter(combinations(row_list, 2)))\n",
    "\n",
    "for key, value in count.most_common(10):\n",
    "    print(key, value)\n",
    "\n",
    "print('The products that sold the most together was iPhone + Lightning Charging Cable')"
   ]
  },
  {
   "cell_type": "markdown",
   "metadata": {},
   "source": [
    "### what product sold the most? why did it sold the most?"
   ]
  },
  {
   "cell_type": "code",
   "execution_count": 426,
   "metadata": {},
   "outputs": [
    {
     "data": {
      "image/png": "[encoded data removed]",
      "text/plain": [
       "<Figure size 432x288 with 1 Axes>"
      ]
     },
     "metadata": {
      "needs_background": "light"
     },
     "output_type": "display_data"
    }
   ],
   "source": [
    "all_products = all_data.groupby('Product')\n",
    "quantity_ordered = all_products.sum()['Quantity Ordered']\n",
    "product = [product for product, df in all_products]\n",
    "\n",
    "plt.bar(product, quantity_ordered)\n",
    "plt.xticks(product, rotation='vertical')\n",
    "_ = plt.xlabel('Product')\n",
    "_ = plt.ylabel('Sold for in US dollars')\n",
    "plt.show()"
   ]
  },
  {
   "cell_type": "code",
   "execution_count": 427,
   "metadata": {},
   "outputs": [
    {
     "data": {
      "image/png": "[encoded data removed]",
      "text/plain": [
       "<Figure size 432x288 with 2 Axes>"
      ]
     },
     "metadata": {
      "needs_background": "light"
     },
     "output_type": "display_data"
    }
   ],
   "source": [
    "prices = all_data.groupby('Product').mean()['Price Each']\n",
    "fig, ax1 = plt.subplots()\n",
    "ax2 = ax1.twinx()\n",
    "ax1.bar(product, quantity_ordered, color='g')\n",
    "ax2.plot(product, prices, 'b-')\n",
    "ax1.set_xlabel('Product')\n",
    "ax1.set_ylabel('Quantity ordered', color='g')\n",
    "ax2.set_ylabel('Prices', color='b')\n",
    "ax1.set_xticklabels(product, rotation='vertical', size=8)\n",
    "plt.show()"
   ]
  },
  {
   "cell_type": "markdown",
   "metadata": {},
   "source": [
    "### create dictionary with key_value pair (product and price)"
   ]
  },
  {
   "cell_type": "code",
   "execution_count": 436,
   "metadata": {},
   "outputs": [
    {
     "data": {
      "text/plain": [
       "{'USB-C Charging Cable': 11.95,\n",
       " 'Bose SoundSport Headphones': 99.99,\n",
       " 'Google Phone': 600.0,\n",
       " 'Wired Headphones': 11.99,\n",
       " 'Macbook Pro Laptop': 1700.0,\n",
       " 'Lightning Charging Cable': 14.95,\n",
       " '27in 4K Gaming Monitor': 389.99,\n",
       " 'AA Batteries (4-pack)': 3.84,\n",
       " 'Apple Airpods Headphones': 150.0,\n",
       " 'AAA Batteries (4-pack)': 2.99,\n",
       " 'iPhone': 700.0,\n",
       " 'Flatscreen TV': 300.0,\n",
       " '27in FHD Monitor': 149.99,\n",
       " '20in Monitor': 109.99,\n",
       " 'LG Dryer': 600.0,\n",
       " 'ThinkPad Laptop': 999.99,\n",
       " 'Vareebadd Phone': 400.0,\n",
       " 'LG Washing Machine': 600.0,\n",
       " '34in Ultrawide Monitor': 379.99}"
      ]
     },
     "execution_count": 436,
     "metadata": {},
     "output_type": "execute_result"
    }
   ],
   "source": [
    "product_list = all_data['Product']\n",
    "price_list = all_data['Price Each']\n",
    "dictionary = dict(zip(product_list, price_list))\n",
    "\n",
    "dictionary"
   ]
  },
  {
   "cell_type": "code",
   "execution_count": null,
   "metadata": {},
   "outputs": [],
   "source": []
  },
  {
   "cell_type": "code",
   "execution_count": null,
   "metadata": {},
   "outputs": [],
   "source": []
  },
  {
   "cell_type": "code",
   "execution_count": null,
   "metadata": {},
   "outputs": [],
   "source": []
  },
  {
   "cell_type": "code",
   "execution_count": null,
   "metadata": {},
   "outputs": [],
   "source": []
  },
  {
   "cell_type": "code",
   "execution_count": null,
   "metadata": {},
   "outputs": [],
   "source": []
  },
  {
   "cell_type": "code",
   "execution_count": null,
   "metadata": {},
   "outputs": [],
   "source": []
  },
  {
   "cell_type": "code",
   "execution_count": null,
   "metadata": {},
   "outputs": [],
   "source": []
  },
  {
   "cell_type": "code",
   "execution_count": null,
   "metadata": {},
   "outputs": [],
   "source": []
  }
 ],
 "metadata": {
  "kernelspec": {
   "display_name": "Python 3",
   "language": "python",
   "name": "python3"
  },
  "language_info": {
   "codemirror_mode": {
    "name": "ipython",
    "version": 3
   },
   "file_extension": ".py",
   "mimetype": "text/x-python",
   "name": "python",
   "nbconvert_exporter": "python",
   "pygments_lexer": "ipython3",
   "version": "3.7.4"
  }
 },
 "nbformat": 4,
 "nbformat_minor": 2
}
